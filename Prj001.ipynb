{
 "cells": [
  {
   "cell_type": "code",
   "execution_count": 7,
   "id": "09f0ba79-ada6-41ce-964a-aec406523b07",
   "metadata": {},
   "outputs": [],
   "source": [
    "using DataFrames, DataFramesMeta, PyCall, ThreadsX\n"
   ]
  },
  {
   "cell_type": "code",
   "execution_count": 3,
   "id": "d54ce95f-27d5-4154-bd28-b1faf82115be",
   "metadata": {},
   "outputs": [
    {
     "data": {
      "text/html": [
       "<div><div style = \"float: left;\"><span>300×6 DataFrame</span></div><div style = \"float: right;\"><span style = \"font-style: italic;\">275 rows omitted</span></div><div style = \"clear: both;\"></div></div><div class = \"data-frame\" style = \"overflow-x: scroll;\"><table class = \"data-frame\" style = \"margin-bottom: 6px;\"><thead><tr class = \"header\"><th class = \"rowNumber\" style = \"font-weight: bold; text-align: right;\">Row</th><th style = \"text-align: left;\">x1</th><th style = \"text-align: left;\">x2</th><th style = \"text-align: left;\">x3</th><th style = \"text-align: left;\">x4</th><th style = \"text-align: left;\">x5</th><th style = \"text-align: left;\">x6</th></tr><tr class = \"subheader headerLastRow\"><th class = \"rowNumber\" style = \"font-weight: bold; text-align: right;\"></th><th title = \"Float64\" style = \"text-align: left;\">Float64</th><th title = \"Float64\" style = \"text-align: left;\">Float64</th><th title = \"Float64\" style = \"text-align: left;\">Float64</th><th title = \"Float64\" style = \"text-align: left;\">Float64</th><th title = \"Float64\" style = \"text-align: left;\">Float64</th><th title = \"Float64\" style = \"text-align: left;\">Float64</th></tr></thead><tbody><tr><td class = \"rowNumber\" style = \"font-weight: bold; text-align: right;\">1</td><td style = \"text-align: right;\">0.382371</td><td style = \"text-align: right;\">0.262153</td><td style = \"text-align: right;\">0.796609</td><td style = \"text-align: right;\">0.207415</td><td style = \"text-align: right;\">0.100667</td><td style = \"text-align: right;\">0.087736</td></tr><tr><td class = \"rowNumber\" style = \"font-weight: bold; text-align: right;\">2</td><td style = \"text-align: right;\">0.405174</td><td style = \"text-align: right;\">0.161943</td><td style = \"text-align: right;\">0.573975</td><td style = \"text-align: right;\">0.340864</td><td style = \"text-align: right;\">0.816546</td><td style = \"text-align: right;\">0.303972</td></tr><tr><td class = \"rowNumber\" style = \"font-weight: bold; text-align: right;\">3</td><td style = \"text-align: right;\">0.539991</td><td style = \"text-align: right;\">0.383393</td><td style = \"text-align: right;\">0.361814</td><td style = \"text-align: right;\">0.056748</td><td style = \"text-align: right;\">0.175082</td><td style = \"text-align: right;\">0.236274</td></tr><tr><td class = \"rowNumber\" style = \"font-weight: bold; text-align: right;\">4</td><td style = \"text-align: right;\">0.535114</td><td style = \"text-align: right;\">0.429728</td><td style = \"text-align: right;\">0.586151</td><td style = \"text-align: right;\">0.574509</td><td style = \"text-align: right;\">0.253973</td><td style = \"text-align: right;\">0.887101</td></tr><tr><td class = \"rowNumber\" style = \"font-weight: bold; text-align: right;\">5</td><td style = \"text-align: right;\">0.848699</td><td style = \"text-align: right;\">0.253998</td><td style = \"text-align: right;\">0.997598</td><td style = \"text-align: right;\">0.0988836</td><td style = \"text-align: right;\">0.132477</td><td style = \"text-align: right;\">0.0997166</td></tr><tr><td class = \"rowNumber\" style = \"font-weight: bold; text-align: right;\">6</td><td style = \"text-align: right;\">0.540798</td><td style = \"text-align: right;\">0.748943</td><td style = \"text-align: right;\">0.0847395</td><td style = \"text-align: right;\">0.336138</td><td style = \"text-align: right;\">0.786378</td><td style = \"text-align: right;\">0.687634</td></tr><tr><td class = \"rowNumber\" style = \"font-weight: bold; text-align: right;\">7</td><td style = \"text-align: right;\">0.299265</td><td style = \"text-align: right;\">0.0336316</td><td style = \"text-align: right;\">0.370893</td><td style = \"text-align: right;\">0.346927</td><td style = \"text-align: right;\">0.138453</td><td style = \"text-align: right;\">0.228036</td></tr><tr><td class = \"rowNumber\" style = \"font-weight: bold; text-align: right;\">8</td><td style = \"text-align: right;\">0.709874</td><td style = \"text-align: right;\">0.863615</td><td style = \"text-align: right;\">0.475069</td><td style = \"text-align: right;\">0.418588</td><td style = \"text-align: right;\">0.410516</td><td style = \"text-align: right;\">0.485513</td></tr><tr><td class = \"rowNumber\" style = \"font-weight: bold; text-align: right;\">9</td><td style = \"text-align: right;\">0.451691</td><td style = \"text-align: right;\">0.219791</td><td style = \"text-align: right;\">0.746312</td><td style = \"text-align: right;\">0.700038</td><td style = \"text-align: right;\">0.388203</td><td style = \"text-align: right;\">0.10039</td></tr><tr><td class = \"rowNumber\" style = \"font-weight: bold; text-align: right;\">10</td><td style = \"text-align: right;\">0.962786</td><td style = \"text-align: right;\">0.626149</td><td style = \"text-align: right;\">0.605858</td><td style = \"text-align: right;\">0.91012</td><td style = \"text-align: right;\">0.306407</td><td style = \"text-align: right;\">0.29336</td></tr><tr><td class = \"rowNumber\" style = \"font-weight: bold; text-align: right;\">11</td><td style = \"text-align: right;\">0.810044</td><td style = \"text-align: right;\">0.595484</td><td style = \"text-align: right;\">0.526553</td><td style = \"text-align: right;\">0.767762</td><td style = \"text-align: right;\">0.273905</td><td style = \"text-align: right;\">0.262256</td></tr><tr><td class = \"rowNumber\" style = \"font-weight: bold; text-align: right;\">12</td><td style = \"text-align: right;\">0.760607</td><td style = \"text-align: right;\">0.156068</td><td style = \"text-align: right;\">0.49225</td><td style = \"text-align: right;\">0.0710742</td><td style = \"text-align: right;\">0.990603</td><td style = \"text-align: right;\">0.219848</td></tr><tr><td class = \"rowNumber\" style = \"font-weight: bold; text-align: right;\">13</td><td style = \"text-align: right;\">0.526308</td><td style = \"text-align: right;\">0.531291</td><td style = \"text-align: right;\">0.138546</td><td style = \"text-align: right;\">0.637719</td><td style = \"text-align: right;\">0.825844</td><td style = \"text-align: right;\">0.347759</td></tr><tr><td style = \"text-align: right;\">&vellip;</td><td style = \"text-align: right;\">&vellip;</td><td style = \"text-align: right;\">&vellip;</td><td style = \"text-align: right;\">&vellip;</td><td style = \"text-align: right;\">&vellip;</td><td style = \"text-align: right;\">&vellip;</td><td style = \"text-align: right;\">&vellip;</td></tr><tr><td class = \"rowNumber\" style = \"font-weight: bold; text-align: right;\">289</td><td style = \"text-align: right;\">0.560571</td><td style = \"text-align: right;\">0.239234</td><td style = \"text-align: right;\">0.686444</td><td style = \"text-align: right;\">0.55567</td><td style = \"text-align: right;\">0.697093</td><td style = \"text-align: right;\">0.742771</td></tr><tr><td class = \"rowNumber\" style = \"font-weight: bold; text-align: right;\">290</td><td style = \"text-align: right;\">0.0477044</td><td style = \"text-align: right;\">0.92389</td><td style = \"text-align: right;\">0.968616</td><td style = \"text-align: right;\">0.894088</td><td style = \"text-align: right;\">0.167686</td><td style = \"text-align: right;\">0.425086</td></tr><tr><td class = \"rowNumber\" style = \"font-weight: bold; text-align: right;\">291</td><td style = \"text-align: right;\">0.813064</td><td style = \"text-align: right;\">0.574116</td><td style = \"text-align: right;\">0.375167</td><td style = \"text-align: right;\">0.850583</td><td style = \"text-align: right;\">0.171804</td><td style = \"text-align: right;\">0.12798</td></tr><tr><td class = \"rowNumber\" style = \"font-weight: bold; text-align: right;\">292</td><td style = \"text-align: right;\">0.567966</td><td style = \"text-align: right;\">0.93988</td><td style = \"text-align: right;\">0.150216</td><td style = \"text-align: right;\">0.306902</td><td style = \"text-align: right;\">0.946079</td><td style = \"text-align: right;\">0.174664</td></tr><tr><td class = \"rowNumber\" style = \"font-weight: bold; text-align: right;\">293</td><td style = \"text-align: right;\">0.0467848</td><td style = \"text-align: right;\">0.211861</td><td style = \"text-align: right;\">0.630503</td><td style = \"text-align: right;\">0.461468</td><td style = \"text-align: right;\">0.444743</td><td style = \"text-align: right;\">0.907869</td></tr><tr><td class = \"rowNumber\" style = \"font-weight: bold; text-align: right;\">294</td><td style = \"text-align: right;\">0.647428</td><td style = \"text-align: right;\">0.828426</td><td style = \"text-align: right;\">0.698036</td><td style = \"text-align: right;\">0.385916</td><td style = \"text-align: right;\">0.802112</td><td style = \"text-align: right;\">0.533246</td></tr><tr><td class = \"rowNumber\" style = \"font-weight: bold; text-align: right;\">295</td><td style = \"text-align: right;\">0.148763</td><td style = \"text-align: right;\">0.575178</td><td style = \"text-align: right;\">0.911811</td><td style = \"text-align: right;\">0.252369</td><td style = \"text-align: right;\">0.432737</td><td style = \"text-align: right;\">0.0174754</td></tr><tr><td class = \"rowNumber\" style = \"font-weight: bold; text-align: right;\">296</td><td style = \"text-align: right;\">0.0713212</td><td style = \"text-align: right;\">0.144382</td><td style = \"text-align: right;\">0.028741</td><td style = \"text-align: right;\">0.948394</td><td style = \"text-align: right;\">0.311264</td><td style = \"text-align: right;\">0.212304</td></tr><tr><td class = \"rowNumber\" style = \"font-weight: bold; text-align: right;\">297</td><td style = \"text-align: right;\">0.295584</td><td style = \"text-align: right;\">0.249081</td><td style = \"text-align: right;\">0.834532</td><td style = \"text-align: right;\">0.650617</td><td style = \"text-align: right;\">0.959483</td><td style = \"text-align: right;\">0.849101</td></tr><tr><td class = \"rowNumber\" style = \"font-weight: bold; text-align: right;\">298</td><td style = \"text-align: right;\">0.461454</td><td style = \"text-align: right;\">0.843038</td><td style = \"text-align: right;\">0.189781</td><td style = \"text-align: right;\">0.226978</td><td style = \"text-align: right;\">0.972653</td><td style = \"text-align: right;\">0.775085</td></tr><tr><td class = \"rowNumber\" style = \"font-weight: bold; text-align: right;\">299</td><td style = \"text-align: right;\">0.272331</td><td style = \"text-align: right;\">0.372703</td><td style = \"text-align: right;\">0.159975</td><td style = \"text-align: right;\">0.717476</td><td style = \"text-align: right;\">0.936328</td><td style = \"text-align: right;\">0.387587</td></tr><tr><td class = \"rowNumber\" style = \"font-weight: bold; text-align: right;\">300</td><td style = \"text-align: right;\">0.240151</td><td style = \"text-align: right;\">0.275315</td><td style = \"text-align: right;\">0.134871</td><td style = \"text-align: right;\">0.274378</td><td style = \"text-align: right;\">0.432152</td><td style = \"text-align: right;\">0.507036</td></tr></tbody></table></div>"
      ],
      "text/latex": [
       "\\begin{tabular}{r|cccccc}\n",
       "\t& x1 & x2 & x3 & x4 & x5 & x6\\\\\n",
       "\t\\hline\n",
       "\t& Float64 & Float64 & Float64 & Float64 & Float64 & Float64\\\\\n",
       "\t\\hline\n",
       "\t1 & 0.382371 & 0.262153 & 0.796609 & 0.207415 & 0.100667 & 0.087736 \\\\\n",
       "\t2 & 0.405174 & 0.161943 & 0.573975 & 0.340864 & 0.816546 & 0.303972 \\\\\n",
       "\t3 & 0.539991 & 0.383393 & 0.361814 & 0.056748 & 0.175082 & 0.236274 \\\\\n",
       "\t4 & 0.535114 & 0.429728 & 0.586151 & 0.574509 & 0.253973 & 0.887101 \\\\\n",
       "\t5 & 0.848699 & 0.253998 & 0.997598 & 0.0988836 & 0.132477 & 0.0997166 \\\\\n",
       "\t6 & 0.540798 & 0.748943 & 0.0847395 & 0.336138 & 0.786378 & 0.687634 \\\\\n",
       "\t7 & 0.299265 & 0.0336316 & 0.370893 & 0.346927 & 0.138453 & 0.228036 \\\\\n",
       "\t8 & 0.709874 & 0.863615 & 0.475069 & 0.418588 & 0.410516 & 0.485513 \\\\\n",
       "\t9 & 0.451691 & 0.219791 & 0.746312 & 0.700038 & 0.388203 & 0.10039 \\\\\n",
       "\t10 & 0.962786 & 0.626149 & 0.605858 & 0.91012 & 0.306407 & 0.29336 \\\\\n",
       "\t11 & 0.810044 & 0.595484 & 0.526553 & 0.767762 & 0.273905 & 0.262256 \\\\\n",
       "\t12 & 0.760607 & 0.156068 & 0.49225 & 0.0710742 & 0.990603 & 0.219848 \\\\\n",
       "\t13 & 0.526308 & 0.531291 & 0.138546 & 0.637719 & 0.825844 & 0.347759 \\\\\n",
       "\t14 & 0.992777 & 0.629092 & 0.412763 & 0.447678 & 0.826638 & 0.652281 \\\\\n",
       "\t15 & 0.483991 & 0.791452 & 0.150332 & 0.0200479 & 0.323337 & 0.126855 \\\\\n",
       "\t16 & 0.76627 & 0.364859 & 0.750351 & 0.0654374 & 0.707627 & 0.845924 \\\\\n",
       "\t17 & 0.681692 & 0.241318 & 0.0698448 & 0.848318 & 0.377462 & 0.166258 \\\\\n",
       "\t18 & 0.625793 & 0.770792 & 0.635335 & 0.912693 & 0.763447 & 0.391367 \\\\\n",
       "\t19 & 0.988225 & 0.624266 & 0.949077 & 0.798498 & 0.317514 & 0.25934 \\\\\n",
       "\t20 & 0.237157 & 0.919424 & 0.161257 & 0.162286 & 0.815019 & 0.358627 \\\\\n",
       "\t21 & 0.62334 & 0.421236 & 0.413834 & 0.888947 & 0.231851 & 0.903627 \\\\\n",
       "\t22 & 0.220664 & 0.836924 & 0.236528 & 0.391916 & 0.689595 & 0.62039 \\\\\n",
       "\t23 & 0.168572 & 0.711716 & 0.150546 & 0.264032 & 0.440787 & 0.380707 \\\\\n",
       "\t24 & 0.107185 & 0.816295 & 0.104551 & 0.679893 & 0.52115 & 0.883827 \\\\\n",
       "\t25 & 0.814068 & 0.132927 & 0.184407 & 0.580158 & 0.229563 & 0.888928 \\\\\n",
       "\t26 & 0.191517 & 0.886023 & 0.23706 & 0.615265 & 0.703016 & 0.289457 \\\\\n",
       "\t27 & 0.956128 & 0.122385 & 0.0843365 & 0.612412 & 0.401683 & 0.88479 \\\\\n",
       "\t28 & 0.236844 & 0.9742 & 0.522272 & 0.193724 & 0.490966 & 0.629412 \\\\\n",
       "\t29 & 0.325795 & 0.24732 & 0.477443 & 0.838855 & 0.811558 & 0.408283 \\\\\n",
       "\t30 & 0.123821 & 0.790831 & 0.065112 & 0.964235 & 0.148433 & 0.199737 \\\\\n",
       "\t$\\dots$ & $\\dots$ & $\\dots$ & $\\dots$ & $\\dots$ & $\\dots$ & $\\dots$ \\\\\n",
       "\\end{tabular}\n"
      ],
      "text/plain": [
       "\u001b[1m300×6 DataFrame\u001b[0m\n",
       "\u001b[1m Row \u001b[0m│\u001b[1m x1        \u001b[0m\u001b[1m x2        \u001b[0m\u001b[1m x3        \u001b[0m\u001b[1m x4        \u001b[0m\u001b[1m x5       \u001b[0m\u001b[1m x6        \u001b[0m\n",
       "     │\u001b[90m Float64   \u001b[0m\u001b[90m Float64   \u001b[0m\u001b[90m Float64   \u001b[0m\u001b[90m Float64   \u001b[0m\u001b[90m Float64  \u001b[0m\u001b[90m Float64   \u001b[0m\n",
       "─────┼─────────────────────────────────────────────────────────────────\n",
       "   1 │ 0.382371   0.262153   0.796609   0.207415   0.100667  0.087736\n",
       "   2 │ 0.405174   0.161943   0.573975   0.340864   0.816546  0.303972\n",
       "   3 │ 0.539991   0.383393   0.361814   0.056748   0.175082  0.236274\n",
       "   4 │ 0.535114   0.429728   0.586151   0.574509   0.253973  0.887101\n",
       "   5 │ 0.848699   0.253998   0.997598   0.0988836  0.132477  0.0997166\n",
       "   6 │ 0.540798   0.748943   0.0847395  0.336138   0.786378  0.687634\n",
       "   7 │ 0.299265   0.0336316  0.370893   0.346927   0.138453  0.228036\n",
       "   8 │ 0.709874   0.863615   0.475069   0.418588   0.410516  0.485513\n",
       "   9 │ 0.451691   0.219791   0.746312   0.700038   0.388203  0.10039\n",
       "  10 │ 0.962786   0.626149   0.605858   0.91012    0.306407  0.29336\n",
       "  11 │ 0.810044   0.595484   0.526553   0.767762   0.273905  0.262256\n",
       "  ⋮  │     ⋮          ⋮          ⋮          ⋮         ⋮          ⋮\n",
       " 291 │ 0.813064   0.574116   0.375167   0.850583   0.171804  0.12798\n",
       " 292 │ 0.567966   0.93988    0.150216   0.306902   0.946079  0.174664\n",
       " 293 │ 0.0467848  0.211861   0.630503   0.461468   0.444743  0.907869\n",
       " 294 │ 0.647428   0.828426   0.698036   0.385916   0.802112  0.533246\n",
       " 295 │ 0.148763   0.575178   0.911811   0.252369   0.432737  0.0174754\n",
       " 296 │ 0.0713212  0.144382   0.028741   0.948394   0.311264  0.212304\n",
       " 297 │ 0.295584   0.249081   0.834532   0.650617   0.959483  0.849101\n",
       " 298 │ 0.461454   0.843038   0.189781   0.226978   0.972653  0.775085\n",
       " 299 │ 0.272331   0.372703   0.159975   0.717476   0.936328  0.387587\n",
       " 300 │ 0.240151   0.275315   0.134871   0.274378   0.432152  0.507036\n",
       "\u001b[36m                                                       279 rows omitted\u001b[0m"
      ]
     },
     "execution_count": 3,
     "metadata": {},
     "output_type": "execute_result"
    }
   ],
   "source": [
    "df = @chain rand(300,6) begin\n",
    "    DataFrame(_, :auto)\n",
    "end"
   ]
  },
  {
   "cell_type": "code",
   "execution_count": null,
   "id": "6e7d13e0-70d9-45f3-8e2d-01e8a2d388dd",
   "metadata": {},
   "outputs": [],
   "source": []
  }
 ],
 "metadata": {
  "kernelspec": {
   "display_name": "Julia 1.11.5",
   "language": "julia",
   "name": "julia-1.11"
  },
  "language_info": {
   "file_extension": ".jl",
   "mimetype": "application/julia",
   "name": "julia",
   "version": "1.11.5"
  }
 },
 "nbformat": 4,
 "nbformat_minor": 5
}
